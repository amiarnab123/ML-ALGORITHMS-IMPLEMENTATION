{
 "cells": [
  {
   "cell_type": "code",
   "execution_count": 18,
   "id": "87888279",
   "metadata": {},
   "outputs": [],
   "source": [
    "from sklearn.linear_model import Ridge\n",
    "from sklearn.model_selection import train_test_split\n",
    "from sklearn.datasets import load_diabetes\n",
    "from sklearn.metrics import r2_score\n",
    "import numpy as np"
   ]
  },
  {
   "cell_type": "code",
   "execution_count": 3,
   "id": "75b4940f",
   "metadata": {},
   "outputs": [],
   "source": [
    "data = load_diabetes()"
   ]
  },
  {
   "cell_type": "code",
   "execution_count": 4,
   "id": "832c2116",
   "metadata": {},
   "outputs": [],
   "source": [
    "X = data.data\n",
    "y = data.target"
   ]
  },
  {
   "cell_type": "code",
   "execution_count": 5,
   "id": "0b4fef09",
   "metadata": {},
   "outputs": [],
   "source": [
    "X_train,X_test,y_train,y_test = train_test_split(X,y,test_size=0.2,random_state=4)"
   ]
  },
  {
   "cell_type": "code",
   "execution_count": 7,
   "id": "7bd0829a",
   "metadata": {},
   "outputs": [
    {
     "name": "stdout",
     "output_type": "stream",
     "text": [
      "[  13.35316225 -209.85870329  490.24942547  317.81042472  -68.89882806\n",
      "  -36.47782293 -192.5888623   130.54227845  371.68943292   61.94914469]\n",
      "152.1799012738903\n"
     ]
    }
   ],
   "source": [
    "rr = Ridge(alpha = 0.1,solver='cholesky')\n",
    "rr.fit(X_train,y_train)\n",
    "print(rr.coef_)\n",
    "print(rr.intercept_)"
   ]
  },
  {
   "cell_type": "code",
   "execution_count": 16,
   "id": "b57c1ca9",
   "metadata": {},
   "outputs": [],
   "source": [
    "class Ridge_ndim:\n",
    "    \n",
    "    def __init__(self,alpha = 0.1):\n",
    "        self.alpha = alpha\n",
    "        self.coef_ = None\n",
    "        self.intercept_ = None\n",
    "    def fit(self,X_train,y_train):\n",
    "        X_train = np.insert(X_train,0,1,axis=1)\n",
    "        I = np.identity(X_train.shape[1])\n",
    "        I[0][0]=0\n",
    "        result = np.linalg.inv(np.dot(X_train.T,X_train) + np.dot(self.alpha,I)).dot(X_train.T).dot(y_train)\n",
    "        self.intercept_ = result[0]\n",
    "        self.coef_ = result[1:]\n",
    "    def predict(self,X_test):\n",
    "        return np.dot(X_test,self.coef_) + self.intercept_      "
   ]
  },
  {
   "cell_type": "code",
   "execution_count": 19,
   "id": "54b95367",
   "metadata": {},
   "outputs": [
    {
     "name": "stdout",
     "output_type": "stream",
     "text": [
      "0.5177169678291256\n",
      "[  13.35316225 -209.85870329  490.24942547  317.81042472  -68.89882806\n",
      "  -36.47782293 -192.5888623   130.54227845  371.68943292   61.94914469]\n",
      "152.17990127389027\n"
     ]
    }
   ],
   "source": [
    "r = Ridge_ndim()\n",
    "r.fit(X_train,y_train)\n",
    "y_pred = r.predict(X_test)\n",
    "print(r2_score(y_test,y_pred))\n",
    "print(r.coef_)\n",
    "print(r.intercept_)"
   ]
  }
 ],
 "metadata": {
  "kernelspec": {
   "display_name": "Python 3 (ipykernel)",
   "language": "python",
   "name": "python3"
  },
  "language_info": {
   "codemirror_mode": {
    "name": "ipython",
    "version": 3
   },
   "file_extension": ".py",
   "mimetype": "text/x-python",
   "name": "python",
   "nbconvert_exporter": "python",
   "pygments_lexer": "ipython3",
   "version": "3.9.12"
  }
 },
 "nbformat": 4,
 "nbformat_minor": 5
}
