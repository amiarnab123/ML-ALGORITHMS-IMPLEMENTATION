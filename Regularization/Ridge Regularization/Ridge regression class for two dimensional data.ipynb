{
 "cells": [
  {
   "cell_type": "code",
   "execution_count": 1,
   "id": "0fc3bca3",
   "metadata": {},
   "outputs": [],
   "source": [
    "from sklearn.datasets import make_regression\n",
    "import matplotlib.pyplot as plt\n",
    "%matplotlib inline\n",
    "import numpy as np\n",
    "from sklearn.linear_model import LinearRegression,Ridge\n",
    "from sklearn.metrics import r2_score"
   ]
  },
  {
   "cell_type": "code",
   "execution_count": 8,
   "id": "9569cb45",
   "metadata": {},
   "outputs": [],
   "source": [
    "X,y = make_regression(n_samples=100,n_features=1,n_informative=1,n_targets=1,noise=20,random_state=13)"
   ]
  },
  {
   "cell_type": "code",
   "execution_count": 9,
   "id": "3a914c41",
   "metadata": {},
   "outputs": [
    {
     "data": {
      "text/plain": [
       "<matplotlib.collections.PathCollection at 0x20a25d8dee0>"
      ]
     },
     "execution_count": 9,
     "metadata": {},
     "output_type": "execute_result"
    },
    {
     "data": {
      "image/png": "[encoded data removed]",
      "text/plain": [
       "<Figure size 432x288 with 1 Axes>"
      ]
     },
     "metadata": {
      "needs_background": "light"
     },
     "output_type": "display_data"
    }
   ],
   "source": [
    "plt.scatter(X,y)"
   ]
  },
  {
   "cell_type": "code",
   "execution_count": 10,
   "id": "b8759c64",
   "metadata": {},
   "outputs": [
    {
     "name": "stdout",
     "output_type": "stream",
     "text": [
      "[27.82809103]\n",
      "-2.29474455867698\n"
     ]
    }
   ],
   "source": [
    "lr = LinearRegression()\n",
    "lr.fit(X,y)\n",
    "print(lr.coef_)\n",
    "print(lr.intercept_)"
   ]
  },
  {
   "cell_type": "code",
   "execution_count": 16,
   "id": "02891685",
   "metadata": {},
   "outputs": [
    {
     "name": "stdout",
     "output_type": "stream",
     "text": [
      "[24.9546267]\n",
      "-2.1269130035235726\n"
     ]
    }
   ],
   "source": [
    "rr = Ridge(alpha=10)\n",
    "rr.fit(X,y)\n",
    "print(rr.coef_)\n",
    "print(rr.intercept_)"
   ]
  },
  {
   "cell_type": "code",
   "execution_count": 17,
   "id": "2cda5895",
   "metadata": {},
   "outputs": [
    {
     "name": "stdout",
     "output_type": "stream",
     "text": [
      "[12.93442104]\n",
      "-1.4248441496033308\n"
     ]
    }
   ],
   "source": [
    "rr1 = Ridge(alpha=100)\n",
    "rr1.fit(X,y)\n",
    "print(rr1.coef_)\n",
    "print(rr1.intercept_)"
   ]
  },
  {
   "cell_type": "code",
   "execution_count": 21,
   "id": "46271347",
   "metadata": {},
   "outputs": [
    {
     "data": {
      "text/plain": [
       "<matplotlib.legend.Legend at 0x20a25945a00>"
      ]
     },
     "execution_count": 21,
     "metadata": {},
     "output_type": "execute_result"
    },
    {
     "data": {
      "image/png": "[encoded data removed]",
      "text/plain": [
       "<Figure size 432x288 with 1 Axes>"
      ]
     },
     "metadata": {
      "needs_background": "light"
     },
     "output_type": "display_data"
    }
   ],
   "source": [
    "plt.plot(X,y,'b.')\n",
    "plt.plot(X,lr.predict(X),color = 'red',label = 'alpha-0')\n",
    "plt.plot(X,rr.predict(X),color = 'green',label = 'alpha-10')\n",
    "plt.plot(X,rr1.predict(X),color = 'orange',label = 'alpha-100')\n",
    "plt.legend()"
   ]
  },
  {
   "cell_type": "markdown",
   "id": "35d146b2",
   "metadata": {},
   "source": [
    "# Creating Class of Ridge Regression"
   ]
  },
  {
   "cell_type": "code",
   "execution_count": 25,
   "id": "823ac590",
   "metadata": {},
   "outputs": [],
   "source": [
    "class Ridge_regularization:\n",
    "    \n",
    "    def __init__(self,alpha=0.1):\n",
    "        self.alpha = alpha\n",
    "        self.m = None\n",
    "        self.b = None\n",
    "    \n",
    "    def fit(self,X_train,y_train):\n",
    "        num = 0\n",
    "        den = 0\n",
    "        \n",
    "        for i in range(X_train.shape[0]):\n",
    "            num = num + (X_train[i]-X_train.mean())*(y_train[i]-y_train.mean())\n",
    "            den = den + (X_train[i]-X_train.mean())*(X_train[i]-X_train.mean())\n",
    "            \n",
    "        self.m = num/den\n",
    "        self.b = y_train.mean() - self.m*X_train.mean()\n",
    "        print(self.m)\n",
    "        print(self.b)\n",
    "        \n",
    "    def predict(self,X_test):\n",
    "        return self.m*X_test + self.b"
   ]
  },
  {
   "cell_type": "code",
   "execution_count": 26,
   "id": "23d6defc",
   "metadata": {},
   "outputs": [],
   "source": [
    "rr = Ridge_regularization(alpha = 10)"
   ]
  },
  {
   "cell_type": "code",
   "execution_count": 27,
   "id": "aba5d76c",
   "metadata": {},
   "outputs": [
    {
     "name": "stdout",
     "output_type": "stream",
     "text": [
      "[27.82809103]\n",
      "[-2.29474456]\n"
     ]
    }
   ],
   "source": [
    "rr.fit(X,y)"
   ]
  },
  {
   "cell_type": "code",
   "execution_count": 28,
   "id": "c212948e",
   "metadata": {
    "scrolled": true
   },
   "outputs": [
    {
     "data": {
      "text/plain": [
       "array([[-22.11921675],\n",
       "       [-14.45967366],\n",
       "       [-14.92180713],\n",
       "       [ 24.22071242],\n",
       "       [  4.32438502],\n",
       "       [ 21.67112396],\n",
       "       [ -9.06604965],\n",
       "       [  2.85194818],\n",
       "       [-22.35878911],\n",
       "       [-14.25795969],\n",
       "       [ 53.78500401],\n",
       "       [  8.75972323],\n",
       "       [  3.48793424],\n",
       "       [ -8.76271288],\n",
       "       [-23.68416726],\n",
       "       [ 10.31579458],\n",
       "       [ 15.5120049 ],\n",
       "       [  7.71035289],\n",
       "       [-47.24011599],\n",
       "       [ 46.38331521],\n",
       "       [-24.25080297],\n",
       "       [-16.54175581],\n",
       "       [-28.12854173],\n",
       "       [ 57.54630841],\n",
       "       [ -8.06489084],\n",
       "       [-47.90758522],\n",
       "       [-11.71784416],\n",
       "       [-11.25883101],\n",
       "       [-15.69039214],\n",
       "       [-16.85340596],\n",
       "       [ 17.79616478],\n",
       "       [ 19.01909784],\n",
       "       [ 10.32476711],\n",
       "       [-37.40282965],\n",
       "       [-63.15798748],\n",
       "       [-35.28268709],\n",
       "       [  3.75652002],\n",
       "       [ 34.7254359 ],\n",
       "       [-32.54893283],\n",
       "       [ 13.35192538],\n",
       "       [-44.39433614],\n",
       "       [ -2.36122658],\n",
       "       [-10.0346972 ],\n",
       "       [ 10.27833033],\n",
       "       [ 30.84031016],\n",
       "       [ 23.37233236],\n",
       "       [ 20.38502282],\n",
       "       [-19.57542424],\n",
       "       [ 23.13291496],\n",
       "       [ 29.38289111],\n",
       "       [ 38.85425675],\n",
       "       [-20.41240352],\n",
       "       [-12.75587946],\n",
       "       [-23.85205448],\n",
       "       [ 11.6509497 ],\n",
       "       [ 35.27840723],\n",
       "       [ 17.99653854],\n",
       "       [ -4.5669515 ],\n",
       "       [-26.06391242],\n",
       "       [ 10.66362788],\n",
       "       [ -3.53318027],\n",
       "       [ -3.89576109],\n",
       "       [ 50.37665821],\n",
       "       [-31.38559451],\n",
       "       [ 13.41850637],\n",
       "       [-55.84042887],\n",
       "       [-23.55635142],\n",
       "       [  1.24786271],\n",
       "       [ -3.03974847],\n",
       "       [ -6.33569874],\n",
       "       [ 13.36820702],\n",
       "       [  6.53652581],\n",
       "       [ 17.49032675],\n",
       "       [ 18.68113484],\n",
       "       [-12.59436847],\n",
       "       [ 35.13686823],\n",
       "       [ 12.51920266],\n",
       "       [-29.68206038],\n",
       "       [ 35.28169362],\n",
       "       [-11.9401498 ],\n",
       "       [ 12.01804564],\n",
       "       [  0.52340026],\n",
       "       [-20.59219494],\n",
       "       [ 20.82777373],\n",
       "       [-11.12365088],\n",
       "       [-29.57390753],\n",
       "       [ 36.64338957],\n",
       "       [ 12.95277604],\n",
       "       [-17.05274393],\n",
       "       [ 11.36528148],\n",
       "       [  7.41031872],\n",
       "       [ 54.85561777],\n",
       "       [ 14.57711138],\n",
       "       [-12.99346802],\n",
       "       [-56.43125354],\n",
       "       [-11.05664376],\n",
       "       [ 49.17644231],\n",
       "       [-33.47631178],\n",
       "       [-11.55247632],\n",
       "       [-23.37322187]])"
      ]
     },
     "execution_count": 28,
     "metadata": {},
     "output_type": "execute_result"
    }
   ],
   "source": [
    "rr.predict(X)"
   ]
  }
 ],
 "metadata": {
  "kernelspec": {
   "display_name": "Python 3 (ipykernel)",
   "language": "python",
   "name": "python3"
  },
  "language_info": {
   "codemirror_mode": {
    "name": "ipython",
    "version": 3
   },
   "file_extension": ".py",
   "mimetype": "text/x-python",
   "name": "python",
   "nbconvert_exporter": "python",
   "pygments_lexer": "ipython3",
   "version": "3.9.12"
  }
 },
 "nbformat": 4,
 "nbformat_minor": 5
}
