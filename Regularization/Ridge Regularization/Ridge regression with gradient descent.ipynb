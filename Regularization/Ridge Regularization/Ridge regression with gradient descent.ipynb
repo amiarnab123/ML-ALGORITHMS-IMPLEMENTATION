{
 "cells": [
  {
   "cell_type": "code",
   "execution_count": 5,
   "id": "fd683bef",
   "metadata": {},
   "outputs": [],
   "source": [
    "from sklearn.datasets import load_diabetes\n",
    "from sklearn.model_selection import train_test_split\n",
    "from sklearn.linear_model import Ridge,SGDRegressor\n",
    "from sklearn.metrics import r2_score\n",
    "import numpy as np"
   ]
  },
  {
   "cell_type": "code",
   "execution_count": 2,
   "id": "41ccae4b",
   "metadata": {},
   "outputs": [],
   "source": [
    "X,y = load_diabetes(return_X_y=True)"
   ]
  },
  {
   "cell_type": "code",
   "execution_count": 3,
   "id": "5592db6a",
   "metadata": {},
   "outputs": [],
   "source": [
    "X_train,X_test,y_train,y_test = train_test_split(X,y,test_size=0.2,random_state=4)"
   ]
  },
  {
   "cell_type": "code",
   "execution_count": 6,
   "id": "7750b178",
   "metadata": {},
   "outputs": [
    {
     "name": "stdout",
     "output_type": "stream",
     "text": [
      "0.4436011310712701\n",
      "[  46.9331372  -151.26025275  367.17277009  266.74196448   -7.31101916\n",
      "  -57.90218117 -169.3481913   136.99995466  326.06170541  100.28042754]\n",
      "[146.47610548]\n"
     ]
    }
   ],
   "source": [
    "sgd = SGDRegressor(penalty='l2',max_iter=500,eta0=0.1,learning_rate='constant',alpha=0.001)\n",
    "sgd.fit(X_train,y_train)\n",
    "y_pred = sgd.predict(X_test)\n",
    "print(r2_score(y_test,y_pred))\n",
    "print(sgd.coef_)\n",
    "print(sgd.intercept_)"
   ]
  },
  {
   "cell_type": "code",
   "execution_count": 7,
   "id": "247b9a94",
   "metadata": {},
   "outputs": [
    {
     "name": "stdout",
     "output_type": "stream",
     "text": [
      "0.46238922017853457\n",
      "[  34.62617431 -290.42643559  483.96594581  367.96559729 -852.21640464\n",
      "  498.74459944  183.78210203  276.57704126  757.34559544   36.95860457]\n",
      "151.1041692189411\n"
     ]
    }
   ],
   "source": [
    "ridge = Ridge(alpha=0.001,max_iter=500,solver='sparse_cg')\n",
    "ridge.fit(X_train,y_train)\n",
    "y_pred = ridge.predict(X_test)\n",
    "print(r2_score(y_test,y_pred))\n",
    "print(ridge.coef_)\n",
    "print(ridge.intercept_)"
   ]
  }
 ],
 "metadata": {
  "kernelspec": {
   "display_name": "Python 3 (ipykernel)",
   "language": "python",
   "name": "python3"
  },
  "language_info": {
   "codemirror_mode": {
    "name": "ipython",
    "version": 3
   },
   "file_extension": ".py",
   "mimetype": "text/x-python",
   "name": "python",
   "nbconvert_exporter": "python",
   "pygments_lexer": "ipython3",
   "version": "3.9.12"
  }
 },
 "nbformat": 4,
 "nbformat_minor": 5
}
