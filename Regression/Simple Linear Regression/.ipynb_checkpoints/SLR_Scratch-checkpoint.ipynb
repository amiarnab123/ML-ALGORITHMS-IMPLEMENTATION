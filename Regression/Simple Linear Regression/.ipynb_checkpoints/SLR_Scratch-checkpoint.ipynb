{
 "cells": [
  {
   "cell_type": "code",
   "execution_count": 1,
   "id": "5ebe9be1",
   "metadata": {},
   "outputs": [],
   "source": [
    "import numpy as np\n",
    "import pandas as pd"
   ]
  },
  {
   "cell_type": "code",
   "execution_count": 2,
   "id": "fb71ccd0",
   "metadata": {},
   "outputs": [],
   "source": [
    "df = pd.read_csv('placement.csv')"
   ]
  },
  {
   "cell_type": "code",
   "execution_count": 3,
   "id": "2c5417fa",
   "metadata": {},
   "outputs": [],
   "source": [
    "X = df.iloc[:,0:1].values\n",
    "y = df.iloc[:,1].values"
   ]
  },
  {
   "cell_type": "code",
   "execution_count": 4,
   "id": "adc532b2",
   "metadata": {},
   "outputs": [],
   "source": [
    "from sklearn.model_selection import train_test_split"
   ]
  },
  {
   "cell_type": "code",
   "execution_count": 5,
   "id": "89139174",
   "metadata": {},
   "outputs": [],
   "source": [
    "X_train,X_test,y_train,y_test = train_test_split(X,y,test_size=0.2,random_state=2)"
   ]
  },
  {
   "cell_type": "code",
   "execution_count": 6,
   "id": "9d366e4d",
   "metadata": {},
   "outputs": [
    {
     "data": {
      "text/plain": [
       "(160, 1)"
      ]
     },
     "execution_count": 6,
     "metadata": {},
     "output_type": "execute_result"
    }
   ],
   "source": [
    "X_train.shape"
   ]
  },
  {
   "cell_type": "code",
   "execution_count": 7,
   "id": "f77c7153",
   "metadata": {},
   "outputs": [
    {
     "data": {
      "text/plain": [
       "6.989937500000001"
      ]
     },
     "execution_count": 7,
     "metadata": {},
     "output_type": "execute_result"
    }
   ],
   "source": [
    "X_train.mean()"
   ]
  },
  {
   "cell_type": "code",
   "execution_count": 8,
   "id": "7d2b0b82",
   "metadata": {},
   "outputs": [],
   "source": [
    "class scratch_LR:\n",
    "    \n",
    "    def __init__(self):\n",
    "        self.m = None\n",
    "        self.b = None\n",
    "        \n",
    "    def fit(self,X_train,y_train):\n",
    "        num = 0\n",
    "        den = 0\n",
    "        \n",
    "        for i in range(X_train.shape[0]):\n",
    "            num = num + sum((X_train[i]-X_train.mean())*(y_train[i]-y_train.mean()))\n",
    "            den = den + ((X_train[i]-X_train.mean())*(X_train[i]-X_train.mean()))\n",
    "        \n",
    "        self.m = num/den\n",
    "        self.b = y_train.mean() - (self.m * X_train.mean())\n",
    "        \n",
    "        return self.m,self.b\n",
    "    \n",
    "    \n",
    "    def predict(self,X_test):\n",
    "        \n",
    "        return self.m * X_test + self.b\n",
    "        "
   ]
  },
  {
   "cell_type": "code",
   "execution_count": 9,
   "id": "8ea6362c",
   "metadata": {},
   "outputs": [],
   "source": [
    "lr = scratch_LR()"
   ]
  },
  {
   "cell_type": "code",
   "execution_count": 10,
   "id": "b7ff8ca2",
   "metadata": {},
   "outputs": [
    {
     "data": {
      "text/plain": [
       "(array([0.55795197]), array([-0.89611192]))"
      ]
     },
     "execution_count": 10,
     "metadata": {},
     "output_type": "execute_result"
    }
   ],
   "source": [
    "lr.fit(X_train,y_train)"
   ]
  },
  {
   "cell_type": "code",
   "execution_count": 11,
   "id": "07b800af",
   "metadata": {},
   "outputs": [
    {
     "data": {
      "text/plain": [
       "array([[3.89111601],\n",
       "       [3.09324469],\n",
       "       [2.38464568],\n",
       "       [2.57434935],\n",
       "       [1.6537286 ],\n",
       "       [1.77647803],\n",
       "       [2.07219258],\n",
       "       [2.93143862],\n",
       "       [3.76278706],\n",
       "       [2.93701814],\n",
       "       [4.09197872],\n",
       "       [3.51170867],\n",
       "       [2.97049525],\n",
       "       [2.40138424],\n",
       "       [3.18809652],\n",
       "       [3.46707251],\n",
       "       [1.94386362],\n",
       "       [3.24389172],\n",
       "       [2.97607477],\n",
       "       [3.41685683],\n",
       "       [2.55761079],\n",
       "       [3.16577844],\n",
       "       [2.85890486],\n",
       "       [3.12114229],\n",
       "       [3.68467378],\n",
       "       [2.8700639 ],\n",
       "       [3.49497011],\n",
       "       [3.34432308],\n",
       "       [3.91901361],\n",
       "       [1.96060218],\n",
       "       [3.65119666],\n",
       "       [3.2104146 ],\n",
       "       [3.74046898],\n",
       "       [2.7863711 ],\n",
       "       [2.78079158],\n",
       "       [3.27178932],\n",
       "       [3.52844723],\n",
       "       [2.61340599],\n",
       "       [2.65804215],\n",
       "       [2.71383735]])"
      ]
     },
     "execution_count": 11,
     "metadata": {},
     "output_type": "execute_result"
    }
   ],
   "source": [
    "lr.predict(X_test)"
   ]
  }
 ],
 "metadata": {
  "kernelspec": {
   "display_name": "Python 3 (ipykernel)",
   "language": "python",
   "name": "python3"
  },
  "language_info": {
   "codemirror_mode": {
    "name": "ipython",
    "version": 3
   },
   "file_extension": ".py",
   "mimetype": "text/x-python",
   "name": "python",
   "nbconvert_exporter": "python",
   "pygments_lexer": "ipython3",
   "version": "3.9.12"
  }
 },
 "nbformat": 4,
 "nbformat_minor": 5
}
