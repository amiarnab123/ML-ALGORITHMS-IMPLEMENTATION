{
 "cells": [
  {
   "cell_type": "code",
   "execution_count": 1,
   "id": "d77b018f",
   "metadata": {},
   "outputs": [],
   "source": [
    "from sklearn.datasets import load_diabetes\n",
    "import numpy as np"
   ]
  },
  {
   "cell_type": "code",
   "execution_count": 2,
   "id": "34a58f47",
   "metadata": {},
   "outputs": [],
   "source": [
    "X,y = load_diabetes(return_X_y=True)"
   ]
  },
  {
   "cell_type": "code",
   "execution_count": 3,
   "id": "152dba69",
   "metadata": {},
   "outputs": [
    {
     "name": "stdout",
     "output_type": "stream",
     "text": [
      "(442, 10)\n",
      "(442,)\n"
     ]
    }
   ],
   "source": [
    "print(X.shape)\n",
    "print(y.shape)"
   ]
  },
  {
   "cell_type": "code",
   "execution_count": 4,
   "id": "20946f14",
   "metadata": {},
   "outputs": [],
   "source": [
    "from sklearn.model_selection import train_test_split\n",
    "X_train,X_test,y_train,y_test = train_test_split(X,y,test_size=0.2,random_state=13)"
   ]
  },
  {
   "cell_type": "code",
   "execution_count": 5,
   "id": "50911648",
   "metadata": {},
   "outputs": [],
   "source": [
    "from sklearn.linear_model import LinearRegression\n",
    "lr = LinearRegression()\n",
    "lr.fit(X_train,y_train)\n",
    "y_pred = lr.predict(X_test)"
   ]
  },
  {
   "cell_type": "code",
   "execution_count": 6,
   "id": "74dc46fb",
   "metadata": {},
   "outputs": [
    {
     "name": "stdout",
     "output_type": "stream",
     "text": [
      "[ -17.28861055 -248.09227384  578.27576885  315.73426388 -571.26153162\n",
      "  292.37735682  -17.49345915  120.18091365  694.98671443  108.0529424 ]\n",
      "150.23369872381795\n"
     ]
    }
   ],
   "source": [
    "print(lr.coef_)\n",
    "print(lr.intercept_)"
   ]
  },
  {
   "cell_type": "code",
   "execution_count": 7,
   "id": "fbb86fcb",
   "metadata": {},
   "outputs": [
    {
     "data": {
      "text/plain": [
       "0.36701884576106236"
      ]
     },
     "execution_count": 7,
     "metadata": {},
     "output_type": "execute_result"
    }
   ],
   "source": [
    "from sklearn.metrics import r2_score\n",
    "R2_score = r2_score(y_test,y_pred)\n",
    "R2_score"
   ]
  },
  {
   "cell_type": "markdown",
   "id": "65eeb015",
   "metadata": {},
   "source": [
    "## Create Batch gradient descent class"
   ]
  },
  {
   "cell_type": "code",
   "execution_count": 8,
   "id": "14d56df9",
   "metadata": {},
   "outputs": [],
   "source": [
    "class Batchgradient:\n",
    "    \n",
    "    def __init__(self,learning_rate = 0.01,epochs = 100):\n",
    "        \n",
    "        self.coef_ = None\n",
    "        self.intercept_ = None\n",
    "        self.epochs = epochs\n",
    "        self.lr = learning_rate\n",
    "        \n",
    "    def fit(self,X_train,y_train):\n",
    "        \n",
    "        self.intercept_ = 0\n",
    "        self.coef_ = np.ones(X_train.shape[1])\n",
    "        \n",
    "        for i in range(self.epochs):\n",
    "            y_hat = np.dot(X_train,self.coef_) + self.intercept_\n",
    "            intercept_der = np.mean(y_train - y_hat) * (-2)\n",
    "            self.intercept_ = self.intercept_ - (self.lr * intercept_der)\n",
    "            \n",
    "            coef_der = ((-2)*np.dot((y_train - y_hat),X_train))/(X_train.shape[0])\n",
    "            self.coef_ = self.coef_ - (self.lr * coef_der)\n",
    "        print(self.intercept_,self.coef_)\n",
    "        \n",
    "    def predict(self,X_test):\n",
    "        return np.dot(X_test,self.coef_) + self.intercept_"
   ]
  },
  {
   "cell_type": "code",
   "execution_count": 9,
   "id": "44eb3461",
   "metadata": {},
   "outputs": [],
   "source": [
    "bg = Batchgradient(0.01,100)"
   ]
  },
  {
   "cell_type": "code",
   "execution_count": 10,
   "id": "715b635a",
   "metadata": {},
   "outputs": [
    {
     "name": "stdout",
     "output_type": "stream",
     "text": [
      "131.66075243149314 [ 2.18988554  1.16959264  5.77924466  4.31182913  3.23920089  2.96968131\n",
      " -1.77610892  4.4670698   5.33244313  4.25939938]\n"
     ]
    }
   ],
   "source": [
    "bg.fit(X_train,y_train)"
   ]
  },
  {
   "cell_type": "code",
   "execution_count": 11,
   "id": "15726ca1",
   "metadata": {},
   "outputs": [
    {
     "data": {
      "text/plain": [
       "array([132.29195526, 129.80040562, 130.90013231, 132.59220048,\n",
       "       132.44001839, 131.09172812, 132.57852241, 132.10412481,\n",
       "       133.00444575, 130.26633178, 131.34875938, 132.90537913,\n",
       "       130.61188828, 132.14448904, 131.7828421 , 130.58308027,\n",
       "       129.4838127 , 133.00080053, 129.81132127, 131.7823334 ,\n",
       "       131.30462658, 132.61294292, 130.07955301, 131.15386463,\n",
       "       131.95357548, 131.78754682, 130.58541723, 131.1996061 ,\n",
       "       132.41508214, 130.53486368, 132.75965993, 132.62235348,\n",
       "       131.19430457, 131.17237784, 132.4501225 , 131.86630675,\n",
       "       130.68919297, 131.67459031, 131.9378185 , 130.79394773,\n",
       "       131.28451352, 132.09254351, 130.78205309, 130.99480176,\n",
       "       133.32387964, 132.5705355 , 131.17811019, 129.58784428,\n",
       "       130.01405757, 130.34023728, 130.4659959 , 132.63721224,\n",
       "       130.41049463, 131.50320138, 131.62428879, 130.04171057,\n",
       "       131.17427603, 130.32937485, 133.32299742, 133.07692198,\n",
       "       134.30101101, 131.84072472, 129.65252314, 130.54791612,\n",
       "       130.98934585, 131.32791018, 131.19999506, 132.29083602,\n",
       "       130.72128088, 129.29974933, 131.03524455, 132.15932103,\n",
       "       132.24303255, 133.48651906, 131.30763061, 131.2083556 ,\n",
       "       132.62963283, 132.47401837, 130.02057989, 131.50319305,\n",
       "       130.33617752, 131.36235004, 129.97594473, 130.22458235,\n",
       "       130.45686683, 131.92883669, 132.41887994, 129.91018945,\n",
       "       133.28264952])"
      ]
     },
     "execution_count": 11,
     "metadata": {},
     "output_type": "execute_result"
    }
   ],
   "source": [
    "bg.predict(X_test)"
   ]
  }
 ],
 "metadata": {
  "kernelspec": {
   "display_name": "Python 3 (ipykernel)",
   "language": "python",
   "name": "python3"
  },
  "language_info": {
   "codemirror_mode": {
    "name": "ipython",
    "version": 3
   },
   "file_extension": ".py",
   "mimetype": "text/x-python",
   "name": "python",
   "nbconvert_exporter": "python",
   "pygments_lexer": "ipython3",
   "version": "3.9.12"
  }
 },
 "nbformat": 4,
 "nbformat_minor": 5
}
