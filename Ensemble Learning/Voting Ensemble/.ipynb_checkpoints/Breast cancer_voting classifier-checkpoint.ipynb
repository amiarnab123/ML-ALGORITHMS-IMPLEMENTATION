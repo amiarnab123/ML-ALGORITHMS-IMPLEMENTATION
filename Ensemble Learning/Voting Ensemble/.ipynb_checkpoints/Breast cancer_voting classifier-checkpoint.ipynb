{
 "cells": [
  {
   "cell_type": "code",
   "execution_count": 21,
   "id": "8345bee1",
   "metadata": {},
   "outputs": [],
   "source": [
    "from sklearn.datasets import load_breast_cancer\n",
    "import numpy as np\n",
    "import warnings\n",
    "warnings.filterwarnings('ignore')"
   ]
  },
  {
   "cell_type": "code",
   "execution_count": 22,
   "id": "7fdd8d80",
   "metadata": {},
   "outputs": [],
   "source": [
    "X,y = load_breast_cancer(return_X_y=True)"
   ]
  },
  {
   "cell_type": "code",
   "execution_count": 23,
   "id": "76fdb3e2",
   "metadata": {},
   "outputs": [
    {
     "data": {
      "text/plain": [
       "(569, 30)"
      ]
     },
     "execution_count": 23,
     "metadata": {},
     "output_type": "execute_result"
    }
   ],
   "source": [
    "X.shape"
   ]
  },
  {
   "cell_type": "code",
   "execution_count": 24,
   "id": "a87f35be",
   "metadata": {},
   "outputs": [],
   "source": [
    "from sklearn.linear_model import LogisticRegression\n",
    "from sklearn.neighbors import KNeighborsClassifier\n",
    "from sklearn.ensemble import RandomForestClassifier\n",
    "from sklearn.model_selection import cross_val_score"
   ]
  },
  {
   "cell_type": "code",
   "execution_count": 25,
   "id": "7cb0f2f6",
   "metadata": {},
   "outputs": [],
   "source": [
    "clf1 = LogisticRegression()\n",
    "clf2 = RandomForestClassifier()\n",
    "clf3 = KNeighborsClassifier()"
   ]
  },
  {
   "cell_type": "code",
   "execution_count": 26,
   "id": "3e02af5b",
   "metadata": {},
   "outputs": [],
   "source": [
    "estimators = [('lr',clf1),('rf',clf2),('knn',clf3)]"
   ]
  },
  {
   "cell_type": "code",
   "execution_count": 27,
   "id": "2df0f0f9",
   "metadata": {},
   "outputs": [
    {
     "name": "stdout",
     "output_type": "stream",
     "text": [
      "lr 0.95\n",
      "rf 0.96\n",
      "knn 0.93\n"
     ]
    }
   ],
   "source": [
    "for estimator in estimators:\n",
    "    x = cross_val_score(estimator[1],X,y,cv = 5,scoring='accuracy')\n",
    "    print(estimator[0],round(np.mean(x),2))"
   ]
  },
  {
   "cell_type": "code",
   "execution_count": 28,
   "id": "f3a6c133",
   "metadata": {},
   "outputs": [],
   "source": [
    "from sklearn.ensemble import VotingClassifier"
   ]
  },
  {
   "cell_type": "markdown",
   "id": "41547cea",
   "metadata": {},
   "source": [
    "# Hard voting"
   ]
  },
  {
   "cell_type": "code",
   "execution_count": 29,
   "id": "4a942f9d",
   "metadata": {
    "scrolled": false
   },
   "outputs": [
    {
     "data": {
      "text/plain": [
       "0.95"
      ]
     },
     "execution_count": 29,
     "metadata": {},
     "output_type": "execute_result"
    }
   ],
   "source": [
    "vc = VotingClassifier(estimators = estimators,voting='hard')\n",
    "round(np.mean(cross_val_score(vc,X,y,cv = 10,scoring='accuracy')),2)"
   ]
  },
  {
   "cell_type": "markdown",
   "id": "d00369b7",
   "metadata": {},
   "source": [
    "# Soft Voting"
   ]
  },
  {
   "cell_type": "code",
   "execution_count": 30,
   "id": "aab9837b",
   "metadata": {
    "scrolled": false
   },
   "outputs": [
    {
     "data": {
      "text/plain": [
       "0.95"
      ]
     },
     "execution_count": 30,
     "metadata": {},
     "output_type": "execute_result"
    }
   ],
   "source": [
    "vc = VotingClassifier(estimators = estimators,voting='soft')\n",
    "round(np.mean(cross_val_score(vc,X,y,cv = 10,scoring='accuracy')),2)"
   ]
  },
  {
   "cell_type": "code",
   "execution_count": 31,
   "id": "e2d02d78",
   "metadata": {
    "scrolled": false
   },
   "outputs": [
    {
     "name": "stdout",
     "output_type": "stream",
     "text": [
      "for i=1,j=1,k=1 0.95\n",
      "for i=1,j=1,k=2 0.95\n",
      "for i=1,j=1,k=3 0.95\n",
      "for i=1,j=2,k=1 0.95\n",
      "for i=1,j=2,k=2 0.95\n",
      "for i=1,j=2,k=3 0.95\n",
      "for i=1,j=3,k=1 0.96\n",
      "for i=1,j=3,k=2 0.96\n",
      "for i=1,j=3,k=3 0.95\n",
      "for i=2,j=1,k=1 0.95\n",
      "for i=2,j=1,k=2 0.95\n",
      "for i=2,j=1,k=3 0.95\n",
      "for i=2,j=2,k=1 0.95\n",
      "for i=2,j=2,k=2 0.95\n",
      "for i=2,j=2,k=3 0.95\n",
      "for i=2,j=3,k=1 0.96\n",
      "for i=2,j=3,k=2 0.95\n",
      "for i=2,j=3,k=3 0.95\n",
      "for i=3,j=1,k=1 0.95\n",
      "for i=3,j=1,k=2 0.95\n",
      "for i=3,j=1,k=3 0.95\n",
      "for i=3,j=2,k=1 0.95\n",
      "for i=3,j=2,k=2 0.95\n",
      "for i=3,j=2,k=3 0.95\n",
      "for i=3,j=3,k=1 0.96\n",
      "for i=3,j=3,k=2 0.95\n",
      "for i=3,j=3,k=3 0.95\n"
     ]
    }
   ],
   "source": [
    "for i in range(1,4):\n",
    "    for j in range(1,4):\n",
    "        for k in range(1,4):\n",
    "            vc = VotingClassifier(estimators=estimators,voting='soft',weights=[i,j,k])\n",
    "            x = cross_val_score(vc,X,y,cv = 10,scoring='accuracy')\n",
    "            print(\"for i={},j={},k={}\".format(i,j,k),round(np.mean(x),2))"
   ]
  },
  {
   "cell_type": "markdown",
   "id": "5e106dea",
   "metadata": {},
   "source": [
    "# classifiers of same algorithms"
   ]
  },
  {
   "cell_type": "code",
   "execution_count": 32,
   "id": "1436ba72",
   "metadata": {},
   "outputs": [],
   "source": [
    "from sklearn.svm import SVC"
   ]
  },
  {
   "cell_type": "code",
   "execution_count": 34,
   "id": "4fbf83e4",
   "metadata": {},
   "outputs": [
    {
     "name": "stdout",
     "output_type": "stream",
     "text": [
      "for svm1 0.83\n",
      "for svm2 0.87\n",
      "for svm3 0.88\n",
      "for svm4 0.79\n",
      "for svm5 0.75\n"
     ]
    }
   ],
   "source": [
    "from sklearn.datasets import make_classification\n",
    "X, y = make_classification(n_samples=1000, n_features=20, n_informative=15, n_redundant=5, random_state=4)\n",
    "\n",
    "svm1 = SVC(probability=True, kernel='poly', degree=1)\n",
    "svm2 = SVC(probability=True, kernel='poly', degree=2)\n",
    "svm3 = SVC(probability=True, kernel='poly', degree=3)\n",
    "svm4 = SVC(probability=True, kernel='poly', degree=4)\n",
    "svm5 = SVC(probability=True, kernel='poly', degree=5)\n",
    "\n",
    "estimators = [('svm1',svm1),('svm2',svm2),('svm3',svm3),('svm4',svm4),('svm5',svm5)]\n",
    "\n",
    "vc = VotingClassifier(estimators=estimators,voting='soft')\n",
    "for estimator in estimators:\n",
    "    x = cross_val_score(estimator[1],X,y,cv=10,scoring='accuracy')\n",
    "    print(\"for {}\".format(estimator[0]),round(np.mean(x),2))"
   ]
  }
 ],
 "metadata": {
  "kernelspec": {
   "display_name": "Python 3 (ipykernel)",
   "language": "python",
   "name": "python3"
  },
  "language_info": {
   "codemirror_mode": {
    "name": "ipython",
    "version": 3
   },
   "file_extension": ".py",
   "mimetype": "text/x-python",
   "name": "python",
   "nbconvert_exporter": "python",
   "pygments_lexer": "ipython3",
   "version": "3.9.12"
  }
 },
 "nbformat": 4,
 "nbformat_minor": 5
}
