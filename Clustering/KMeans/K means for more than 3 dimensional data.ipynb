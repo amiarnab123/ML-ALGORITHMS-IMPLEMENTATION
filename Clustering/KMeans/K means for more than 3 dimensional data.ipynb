{
 "cells": [
  {
   "cell_type": "code",
   "execution_count": 3,
   "id": "26d50113",
   "metadata": {},
   "outputs": [],
   "source": [
    "import pandas as pd\n",
    "import numpy as np\n",
    "import seaborn as sns\n",
    "import matplotlib.pyplot as plt\n",
    "%matplotlib inline\n",
    "import plotly as px"
   ]
  },
  {
   "cell_type": "code",
   "execution_count": 4,
   "id": "c2e9000b",
   "metadata": {},
   "outputs": [],
   "source": [
    "df = pd.read_csv(\"Wholesale customers data.csv\")"
   ]
  },
  {
   "cell_type": "code",
   "execution_count": 5,
   "id": "b3861937",
   "metadata": {},
   "outputs": [
    {
     "data": {
      "text/html": [
       "<div>\n",
       "<style scoped>\n",
       "    .dataframe tbody tr th:only-of-type {\n",
       "        vertical-align: middle;\n",
       "    }\n",
       "\n",
       "    .dataframe tbody tr th {\n",
       "        vertical-align: top;\n",
       "    }\n",
       "\n",
       "    .dataframe thead th {\n",
       "        text-align: right;\n",
       "    }\n",
       "</style>\n",
       "<table border=\"1\" class=\"dataframe\">\n",
       "  <thead>\n",
       "    <tr style=\"text-align: right;\">\n",
       "      <th></th>\n",
       "      <th>Channel</th>\n",
       "      <th>Region</th>\n",
       "      <th>Fresh</th>\n",
       "      <th>Milk</th>\n",
       "      <th>Grocery</th>\n",
       "      <th>Frozen</th>\n",
       "      <th>Detergents_Paper</th>\n",
       "      <th>Delicassen</th>\n",
       "    </tr>\n",
       "  </thead>\n",
       "  <tbody>\n",
       "    <tr>\n",
       "      <th>0</th>\n",
       "      <td>2</td>\n",
       "      <td>3</td>\n",
       "      <td>12669</td>\n",
       "      <td>9656</td>\n",
       "      <td>7561</td>\n",
       "      <td>214</td>\n",
       "      <td>2674</td>\n",
       "      <td>1338</td>\n",
       "    </tr>\n",
       "    <tr>\n",
       "      <th>1</th>\n",
       "      <td>2</td>\n",
       "      <td>3</td>\n",
       "      <td>7057</td>\n",
       "      <td>9810</td>\n",
       "      <td>9568</td>\n",
       "      <td>1762</td>\n",
       "      <td>3293</td>\n",
       "      <td>1776</td>\n",
       "    </tr>\n",
       "    <tr>\n",
       "      <th>2</th>\n",
       "      <td>2</td>\n",
       "      <td>3</td>\n",
       "      <td>6353</td>\n",
       "      <td>8808</td>\n",
       "      <td>7684</td>\n",
       "      <td>2405</td>\n",
       "      <td>3516</td>\n",
       "      <td>7844</td>\n",
       "    </tr>\n",
       "    <tr>\n",
       "      <th>3</th>\n",
       "      <td>1</td>\n",
       "      <td>3</td>\n",
       "      <td>13265</td>\n",
       "      <td>1196</td>\n",
       "      <td>4221</td>\n",
       "      <td>6404</td>\n",
       "      <td>507</td>\n",
       "      <td>1788</td>\n",
       "    </tr>\n",
       "    <tr>\n",
       "      <th>4</th>\n",
       "      <td>2</td>\n",
       "      <td>3</td>\n",
       "      <td>22615</td>\n",
       "      <td>5410</td>\n",
       "      <td>7198</td>\n",
       "      <td>3915</td>\n",
       "      <td>1777</td>\n",
       "      <td>5185</td>\n",
       "    </tr>\n",
       "  </tbody>\n",
       "</table>\n",
       "</div>"
      ],
      "text/plain": [
       "   Channel  Region  Fresh  Milk  Grocery  Frozen  Detergents_Paper  Delicassen\n",
       "0        2       3  12669  9656     7561     214              2674        1338\n",
       "1        2       3   7057  9810     9568    1762              3293        1776\n",
       "2        2       3   6353  8808     7684    2405              3516        7844\n",
       "3        1       3  13265  1196     4221    6404               507        1788\n",
       "4        2       3  22615  5410     7198    3915              1777        5185"
      ]
     },
     "execution_count": 5,
     "metadata": {},
     "output_type": "execute_result"
    }
   ],
   "source": [
    "df.head()"
   ]
  },
  {
   "cell_type": "code",
   "execution_count": 6,
   "id": "3dc7f433",
   "metadata": {},
   "outputs": [],
   "source": [
    "from sklearn.cluster import KMeans"
   ]
  },
  {
   "cell_type": "code",
   "execution_count": 10,
   "id": "a6de9451",
   "metadata": {},
   "outputs": [
    {
     "name": "stderr",
     "output_type": "stream",
     "text": [
      "C:\\Users\\ARNAB MANNA\\anaconda3\\lib\\site-packages\\sklearn\\cluster\\_kmeans.py:1036: UserWarning: KMeans is known to have a memory leak on Windows with MKL, when there are less chunks than available threads. You can avoid it by setting the environment variable OMP_NUM_THREADS=2.\n",
      "  warnings.warn(\n"
     ]
    }
   ],
   "source": [
    "wcss = []\n",
    "for i in range(1,31):\n",
    "    km = KMeans(n_clusters=i)\n",
    "    km.fit_predict(df)\n",
    "    wcss.append(km.inertia_)"
   ]
  },
  {
   "cell_type": "code",
   "execution_count": 11,
   "id": "c9c22915",
   "metadata": {},
   "outputs": [
    {
     "data": {
      "text/plain": [
       "[157595857524.96136,\n",
       " 113217528878.79836,\n",
       " 80332414178.0291,\n",
       " 64855545845.90139,\n",
       " 53241432138.255775,\n",
       " 47125720189.12211,\n",
       " 41748410692.08844,\n",
       " 36275206359.08953,\n",
       " 32764894723.422413,\n",
       " 30124913382.68189,\n",
       " 27747082489.48149,\n",
       " 26713908697.88893,\n",
       " 25044674689.894405,\n",
       " 23243906293.192745,\n",
       " 21804868052.12688,\n",
       " 19968342444.767677,\n",
       " 19073868659.477745,\n",
       " 17764610181.582687,\n",
       " 16171855220.83652,\n",
       " 16289663448.418087,\n",
       " 14911613415.93121,\n",
       " 14329599083.833252,\n",
       " 13701413243.06757,\n",
       " 13121350091.06214,\n",
       " 12541850728.022173,\n",
       " 12204679619.432972,\n",
       " 11796306525.345036,\n",
       " 11161357529.889547,\n",
       " 10640746575.792625,\n",
       " 10208342889.2319]"
      ]
     },
     "execution_count": 11,
     "metadata": {},
     "output_type": "execute_result"
    }
   ],
   "source": [
    "wcss"
   ]
  },
  {
   "cell_type": "code",
   "execution_count": 13,
   "id": "ad2fc65a",
   "metadata": {},
   "outputs": [
    {
     "data": {
      "text/plain": [
       "[<matplotlib.lines.Line2D at 0x1a02fc7ab50>]"
      ]
     },
     "execution_count": 13,
     "metadata": {},
     "output_type": "execute_result"
    },
    {
     "data": {
      "image/png": "[encoded data removed]",
      "text/plain": [
       "<Figure size 1080x432 with 1 Axes>"
      ]
     },
     "metadata": {
      "needs_background": "light"
     },
     "output_type": "display_data"
    }
   ],
   "source": [
    "plt.figure(figsize = (15,6))\n",
    "plt.plot(range(1,31),wcss)"
   ]
  },
  {
   "cell_type": "code",
   "execution_count": 14,
   "id": "58fd0b84",
   "metadata": {},
   "outputs": [],
   "source": [
    "X = df.iloc[:,:].values\n",
    "km = KMeans(n_clusters=20)\n",
    "y_means = km.fit_predict(X)"
   ]
  },
  {
   "cell_type": "code",
   "execution_count": 15,
   "id": "85b0c8d8",
   "metadata": {},
   "outputs": [
    {
     "data": {
      "text/plain": [
       "array([ 0, 15, 15,  1, 17,  1,  1, 15,  3, 19, 15,  1,  6, 17, 17,  1, 15,\n",
       "        3, 17,  1, 12,  3,  6,  8, 17, 17,  1,  1, 19,  2, 17,  3, 12,  6,\n",
       "        3, 15,  6,  0, 19,  2,  6, 12,  0, 19,  0, 14, 19,  4,  0,  8,  3,\n",
       "        3,  2, 15,  6,  3,  8, 15,  1, 15,  1,  4,  1,  0,  3,  8,  3, 17,\n",
       "        3,  1, 12, 17, 11, 17, 15, 12,  3, 19,  1,  3,  1, 15,  0, 12,  1,\n",
       "       16, 18,  2, 11,  6,  1, 11,  8, 11, 15,  3, 15,  3,  3,  1,  0, 19,\n",
       "       15, 10,  1, 12, 15,  0, 15, 19,  1,  0, 12, 12, 12,  1,  1,  1, 12,\n",
       "        1, 12,  3,  1,  0,  2, 10, 12, 17,  3,  2,  1,  3, 12,  1,  1,  3,\n",
       "       15, 15,  1,  3, 17,  6,  6, 11, 12,  8,  1,  1,  3,  6, 12,  3, 12,\n",
       "        3,  3, 19, 15, 12, 15, 15, 15,  1, 12, 19, 15,  0, 15,  3,  3,  3,\n",
       "       15, 14, 15, 19,  3, 15,  2,  1,  1,  3, 17,  5, 15,  7,  3,  1,  3,\n",
       "       15,  0, 15, 12,  1,  3, 19,  1, 12,  6, 15,  1,  1, 19, 19,  6,  3,\n",
       "        3, 19,  3, 15,  3, 19, 12,  8,  1, 15, 15, 15,  8, 12, 15,  3, 12,\n",
       "       15, 11,  3,  1,  1, 17,  3,  3,  1, 11,  3,  6,  3, 12,  3,  1, 12,\n",
       "        1,  2,  6, 12, 12,  1, 15, 15,  1,  1, 12,  1,  3,  8, 11,  6, 14,\n",
       "        6,  1,  1,  2,  2,  1,  1, 12,  3, 15, 14, 19, 12,  0, 12,  3,  3,\n",
       "       15,  2,  3,  3,  6, 11,  1, 17,  3,  1,  2,  6, 10,  2,  1, 12, 12,\n",
       "        2,  3,  3,  3, 15, 12,  1, 12,  1, 15,  3, 17, 19, 15, 15, 19, 15,\n",
       "       19, 12,  1, 14, 11,  6, 19,  1,  1, 14,  1,  3,  1, 14,  3,  1, 12,\n",
       "       17,  6,  9,  3,  3, 12,  3,  1, 19, 12, 13, 12,  6,  1, 11, 11, 11,\n",
       "       15, 15, 15, 19,  3, 15, 15,  6,  3, 19,  3, 19,  3, 19, 12,  3, 12,\n",
       "       19, 14,  3, 12,  3,  3,  3,  3, 15,  1,  3, 12,  3,  2, 12,  3, 17,\n",
       "        3,  3, 15,  2,  3, 15,  6, 12,  6,  3, 14,  1,  3, 12,  1,  1,  3,\n",
       "        3,  3,  6,  1,  1, 15,  1,  1,  1,  3,  6,  6,  6, 12,  1,  6, 19,\n",
       "        1,  1,  1,  3, 15, 11,  3, 15, 15, 15, 19,  1, 15, 17,  6, 12, 17,\n",
       "       11,  0,  6,  3,  1, 15, 11, 12,  3, 17,  6,  2,  8,  1,  3])"
      ]
     },
     "execution_count": 15,
     "metadata": {},
     "output_type": "execute_result"
    }
   ],
   "source": [
    "y_means"
   ]
  },
  {
   "cell_type": "code",
   "execution_count": 21,
   "id": "421b1e20",
   "metadata": {
    "scrolled": true
   },
   "outputs": [
    {
     "data": {
      "text/plain": [
       "array([[    1,     3, 13265,  1196,  4221,  6404,   507,  1788],\n",
       "       [    2,     3,  9413,  8259,  5126,   666,  1795,  1451],\n",
       "       [    2,     3, 12126,  3199,  6975,   480,  3140,   545],\n",
       "       [    2,     3, 13146,  1124,  4523,  1420,   549,   497],\n",
       "       [    1,     3, 10253,  1114,  3821,   397,   964,   412],\n",
       "       [    1,     3,  7780,  2495,  9464,   669,  2518,   501],\n",
       "       [    1,     3,  9898,   961,  2861,  3151,   242,   833],\n",
       "       [    1,     3, 14276,   803,  3045,   485,   100,   518],\n",
       "       [    1,     3, 13779,  1970,  1648,   596,   227,   436],\n",
       "       [    2,     3,  8590,  3045,  7854,    96,  4095,   225],\n",
       "       [    2,     3,  7823,  6245,  6544,  4154,  4074,   964],\n",
       "       [    1,     3,  8352,  2820,  1293,   779,   656,   144],\n",
       "       [    1,     3, 10766,  1175,  2067,  2096,   301,   167],\n",
       "       [    1,     3,  7005,   829,  3009,   430,   610,   529],\n",
       "       [    2,     3, 11867,  3327,  4814,  1178,  3837,   120],\n",
       "       [    1,     3, 11405,   596,  1638,  3347,    69,   360],\n",
       "       [    1,     3,  9658,  2182,  1909,  5639,   215,   323],\n",
       "       [    1,     3, 14100,  2132,  3445,  1336,  1491,   548],\n",
       "       [    1,     3, 11818,  1648,  1694,  2276,   169,  1647],\n",
       "       [    1,     3, 11134,   793,  2988,  2715,   276,   610],\n",
       "       [    1,     3, 11173,  2521,  3355,  1517,   310,   222],\n",
       "       [    1,     3,  6990,  3880,  5380,  1647,   319,  1160],\n",
       "       [    1,     3,  8258,  2344,  2147,  3896,   266,   635],\n",
       "       [    1,     3, 12212,   201,   245,  1991,    25,   860],\n",
       "       [    1,     3,  7149,  2428,   699,  6316,   395,   911],\n",
       "       [    1,     3,  9434,  1042,  1235,   436,   256,   396],\n",
       "       [    1,     3,  7388,  1882,  2174,   720,    47,   537],\n",
       "       [    1,     3, 13537,  4257,  5034,   155,   249,  3271],\n",
       "       [    1,     3,  7769,  1936,  2177,   926,    73,   520],\n",
       "       [    1,     3,  9203,  3373,  2707,  1286,  1082,   526],\n",
       "       [    1,     3, 12434,   540,   283,  1092,     3,  2233],\n",
       "       [    1,     3, 12759,  7330,  4533,  1752,    20,  2631],\n",
       "       [    1,     3, 11002,  7075,  4945,  1152,   120,   395],\n",
       "       [    1,     3,  8170,  6448,  1139,  2181,    58,   247],\n",
       "       [    1,     3, 13624,   295,  1381,   890,    43,    84],\n",
       "       [    1,     3,  7107,  1012,  2974,   806,   355,  1142],\n",
       "       [    1,     1, 11686,  2154,  6824,  3527,   592,   697],\n",
       "       [    1,     1,  9670,  2280,  2112,   520,   402,   347],\n",
       "       [    1,     1,  7291,  1012,  2062,  1291,   240,  1775],\n",
       "       [    1,     1,  7274,   659,  1499,   784,    70,   659],\n",
       "       [    1,     1, 12680,  3243,  4157,   660,   761,   786],\n",
       "       [    1,     1,  8656,  2746,  2501,  6845,   694,   980],\n",
       "       [    1,     1,  8635,   820,  3047,  2312,   415,   225],\n",
       "       [    1,     1,  7363,   475,   585,  1112,    72,   216],\n",
       "       [    1,     1, 11210,  3576,  5119,   561,  1682,  2398],\n",
       "       [    1,     1,  8885,  2428,  1777,  1777,   430,   610],\n",
       "       [    1,     1, 13569,   346,   489,  2077,    44,   659],\n",
       "       [    1,     1,  8040,  3795,  2070,  6340,   918,   291],\n",
       "       [    1,     1, 11092,  5008,  5249,   453,   392,   373],\n",
       "       [    1,     1,  8475,  1931,  1883,  5004,  3593,   987],\n",
       "       [    1,     1,  9193,  4885,  2157,   327,   780,   548],\n",
       "       [    1,     1,  7858,  1110,  1094,  6818,    49,   287],\n",
       "       [    1,     3, 11693,  2317,  2543,  5845,   274,  1409],\n",
       "       [    2,     3, 12238,  7108,  6235,  1093,  2328,  2079],\n",
       "       [    1,     3,  7149,  2247,  1242,  1619,  1226,   128],\n",
       "       [    2,     2,  7588,  1897,  5234,   417,  2208,   254],\n",
       "       [    2,     2,  8090,  3199,  6986,  1455,  3712,   531],\n",
       "       [    1,     2,  6987,  1020,  3007,   416,   257,   656],\n",
       "       [    1,     2,  9784,   925,  2405,  4447,   183,   297],\n",
       "       [    1,     2, 10617,  1795,  7647,  1483,   857,  1233],\n",
       "       [    1,     2,  7127,  1375,  2201,  2679,    83,  1059],\n",
       "       [    1,     2, 11800,  2713,  3558,  2121,   706,    51],\n",
       "       [    1,     2,  9155,  1897,  5167,  2714,   228,  1113],\n",
       "       [    1,     2,  9790,  1786,  5109,  3570,   182,  1043],\n",
       "       [    1,     2, 13970,  1511,  1330,   650,   146,   778],\n",
       "       [    1,     3,  9561,  2217,  1664,  1173,   222,   447],\n",
       "       [    1,     3, 11635,   922,  1614,  2583,   192,  1068],\n",
       "       [    1,     3,  9785,   848,  1172,  1677,   200,   406],\n",
       "       [    1,     3,  9385,  1530,  1422,  3019,   227,   684],\n",
       "       [    1,     3, 12377,   865,  3204,  1398,   149,   452],\n",
       "       [    1,     3,  9602,  1316,  1263,  2921,   841,   290],\n",
       "       [    1,     3, 11535,  1666,  1428,  6838,    64,   743],\n",
       "       [    1,     3, 11442,  1032,   582,  5390,    74,   247],\n",
       "       [    1,     3,  9612,   577,   935,  1601,   469,   375],\n",
       "       [    1,     3,  6884,  1046,  1167,  2069,   593,   378],\n",
       "       [    2,     3,  8257,  3880,  6407,  1646,  2730,   344],\n",
       "       [    1,     3,  8708,  3634,  6100,  2349,  2123,  5137],\n",
       "       [    1,     3,  6633,  2096,  4563,  1389,  1860,  1892],\n",
       "       [    1,     3,  8861,  3783,  2223,   633,  1580,  1521],\n",
       "       [    1,     3,  8607,  1750,  3580,    47,    84,  2501],\n",
       "       [    1,     3, 10290,  1981,  2232,  1038,   168,  2125]],\n",
       "      dtype=int64)"
      ]
     },
     "execution_count": 21,
     "metadata": {},
     "output_type": "execute_result"
    }
   ],
   "source": [
    "len(X[y_means == 1])"
   ]
  },
  {
   "cell_type": "code",
   "execution_count": 24,
   "id": "994bfbce",
   "metadata": {},
   "outputs": [],
   "source": [
    "count = []\n",
    "for i in range(20):\n",
    "    count.append(len(X[y_means == i]))"
   ]
  },
  {
   "cell_type": "code",
   "execution_count": 25,
   "id": "7dd42b12",
   "metadata": {},
   "outputs": [
    {
     "data": {
      "text/html": [
       "<div>\n",
       "<style scoped>\n",
       "    .dataframe tbody tr th:only-of-type {\n",
       "        vertical-align: middle;\n",
       "    }\n",
       "\n",
       "    .dataframe tbody tr th {\n",
       "        vertical-align: top;\n",
       "    }\n",
       "\n",
       "    .dataframe thead th {\n",
       "        text-align: right;\n",
       "    }\n",
       "</style>\n",
       "<table border=\"1\" class=\"dataframe\">\n",
       "  <thead>\n",
       "    <tr style=\"text-align: right;\">\n",
       "      <th></th>\n",
       "      <th>k-value</th>\n",
       "      <th>count</th>\n",
       "    </tr>\n",
       "  </thead>\n",
       "  <tbody>\n",
       "    <tr>\n",
       "      <th>0</th>\n",
       "      <td>0</td>\n",
       "      <td>15</td>\n",
       "    </tr>\n",
       "    <tr>\n",
       "      <th>1</th>\n",
       "      <td>1</td>\n",
       "      <td>81</td>\n",
       "    </tr>\n",
       "    <tr>\n",
       "      <th>2</th>\n",
       "      <td>2</td>\n",
       "      <td>17</td>\n",
       "    </tr>\n",
       "    <tr>\n",
       "      <th>3</th>\n",
       "      <td>3</td>\n",
       "      <td>87</td>\n",
       "    </tr>\n",
       "    <tr>\n",
       "      <th>4</th>\n",
       "      <td>4</td>\n",
       "      <td>2</td>\n",
       "    </tr>\n",
       "    <tr>\n",
       "      <th>5</th>\n",
       "      <td>5</td>\n",
       "      <td>1</td>\n",
       "    </tr>\n",
       "    <tr>\n",
       "      <th>6</th>\n",
       "      <td>6</td>\n",
       "      <td>32</td>\n",
       "    </tr>\n",
       "    <tr>\n",
       "      <th>7</th>\n",
       "      <td>7</td>\n",
       "      <td>1</td>\n",
       "    </tr>\n",
       "    <tr>\n",
       "      <th>8</th>\n",
       "      <td>8</td>\n",
       "      <td>10</td>\n",
       "    </tr>\n",
       "    <tr>\n",
       "      <th>9</th>\n",
       "      <td>9</td>\n",
       "      <td>1</td>\n",
       "    </tr>\n",
       "    <tr>\n",
       "      <th>10</th>\n",
       "      <td>10</td>\n",
       "      <td>3</td>\n",
       "    </tr>\n",
       "    <tr>\n",
       "      <th>11</th>\n",
       "      <td>11</td>\n",
       "      <td>16</td>\n",
       "    </tr>\n",
       "    <tr>\n",
       "      <th>12</th>\n",
       "      <td>12</td>\n",
       "      <td>51</td>\n",
       "    </tr>\n",
       "    <tr>\n",
       "      <th>13</th>\n",
       "      <td>13</td>\n",
       "      <td>1</td>\n",
       "    </tr>\n",
       "    <tr>\n",
       "      <th>14</th>\n",
       "      <td>14</td>\n",
       "      <td>9</td>\n",
       "    </tr>\n",
       "    <tr>\n",
       "      <th>15</th>\n",
       "      <td>15</td>\n",
       "      <td>61</td>\n",
       "    </tr>\n",
       "    <tr>\n",
       "      <th>16</th>\n",
       "      <td>16</td>\n",
       "      <td>1</td>\n",
       "    </tr>\n",
       "    <tr>\n",
       "      <th>17</th>\n",
       "      <td>17</td>\n",
       "      <td>21</td>\n",
       "    </tr>\n",
       "    <tr>\n",
       "      <th>18</th>\n",
       "      <td>18</td>\n",
       "      <td>1</td>\n",
       "    </tr>\n",
       "    <tr>\n",
       "      <th>19</th>\n",
       "      <td>19</td>\n",
       "      <td>29</td>\n",
       "    </tr>\n",
       "  </tbody>\n",
       "</table>\n",
       "</div>"
      ],
      "text/plain": [
       "    k-value  count\n",
       "0         0     15\n",
       "1         1     81\n",
       "2         2     17\n",
       "3         3     87\n",
       "4         4      2\n",
       "5         5      1\n",
       "6         6     32\n",
       "7         7      1\n",
       "8         8     10\n",
       "9         9      1\n",
       "10       10      3\n",
       "11       11     16\n",
       "12       12     51\n",
       "13       13      1\n",
       "14       14      9\n",
       "15       15     61\n",
       "16       16      1\n",
       "17       17     21\n",
       "18       18      1\n",
       "19       19     29"
      ]
     },
     "execution_count": 25,
     "metadata": {},
     "output_type": "execute_result"
    }
   ],
   "source": [
    "dic = {\"k-value\":[i for i in range(20)],\n",
    "       \"count\":count}\n",
    "result = pd.DataFrame(dic)\n",
    "result"
   ]
  }
 ],
 "metadata": {
  "kernelspec": {
   "display_name": "Python 3 (ipykernel)",
   "language": "python",
   "name": "python3"
  },
  "language_info": {
   "codemirror_mode": {
    "name": "ipython",
    "version": 3
   },
   "file_extension": ".py",
   "mimetype": "text/x-python",
   "name": "python",
   "nbconvert_exporter": "python",
   "pygments_lexer": "ipython3",
   "version": "3.9.12"
  }
 },
 "nbformat": 4,
 "nbformat_minor": 5
}
